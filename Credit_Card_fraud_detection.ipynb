{
  "nbformat": 4,
  "nbformat_minor": 0,
  "metadata": {
    "colab": {
      "name": "Credit Card fraud detection",
      "provenance": [],
      "collapsed_sections": [],
      "mount_file_id": "15uGNGjy7Z15wxIXxnrgIJ23UHAqNkYCF",
      "authorship_tag": "ABX9TyPyhSZBHA7IiBHob+7NeAEV",
      "include_colab_link": true
    },
    "kernelspec": {
      "name": "python3",
      "display_name": "Python 3"
    },
    "language_info": {
      "name": "python"
    },
    "accelerator": "GPU"
  },
  "cells": [
    {
      "cell_type": "markdown",
      "metadata": {
        "id": "view-in-github",
        "colab_type": "text"
      },
      "source": [
        "<a href=\"https://colab.research.google.com/github/vinaysonare/Data-Science-Projects/blob/main/Credit_Card_fraud_detection.ipynb\" target=\"_parent\"><img src=\"https://colab.research.google.com/assets/colab-badge.svg\" alt=\"Open In Colab\"/></a>"
      ]
    },
    {
      "cell_type": "code",
      "metadata": {
        "id": "N0gjlt6Y2uP0"
      },
      "source": [
        "import numpy as np\n",
        "import pandas as pd\n",
        "import matplotlib.pyplot as plt\n",
        "import seaborn as sns"
      ],
      "execution_count": null,
      "outputs": []
    },
    {
      "cell_type": "markdown",
      "metadata": {
        "id": "XPp66IH2dkAE"
      },
      "source": [
        "**Task1: Credit Card Fraud Detection with OverSampling**"
      ]
    },
    {
      "cell_type": "code",
      "metadata": {
        "colab": {
          "base_uri": "https://localhost:8080/",
          "height": 224
        },
        "id": "37h6daEceDSC",
        "outputId": "7980bb55-d65a-4a69-d03d-39e3144c3080"
      },
      "source": [
        " #Gettiting data from csv stored in Google drive and converting it into dataframe\n",
        "creditcard_df = pd.read_csv('/content/drive/MyDrive/Guvi/Sample Datasets/creditcard.csv')\n",
        "creditcard_df.head()"
      ],
      "execution_count": null,
      "outputs": [
        {
          "output_type": "execute_result",
          "data": {
            "text/html": [
              "<div>\n",
              "<style scoped>\n",
              "    .dataframe tbody tr th:only-of-type {\n",
              "        vertical-align: middle;\n",
              "    }\n",
              "\n",
              "    .dataframe tbody tr th {\n",
              "        vertical-align: top;\n",
              "    }\n",
              "\n",
              "    .dataframe thead th {\n",
              "        text-align: right;\n",
              "    }\n",
              "</style>\n",
              "<table border=\"1\" class=\"dataframe\">\n",
              "  <thead>\n",
              "    <tr style=\"text-align: right;\">\n",
              "      <th></th>\n",
              "      <th>Time</th>\n",
              "      <th>V1</th>\n",
              "      <th>V2</th>\n",
              "      <th>V3</th>\n",
              "      <th>V4</th>\n",
              "      <th>V5</th>\n",
              "      <th>V6</th>\n",
              "      <th>V7</th>\n",
              "      <th>V8</th>\n",
              "      <th>V9</th>\n",
              "      <th>V10</th>\n",
              "      <th>V11</th>\n",
              "      <th>V12</th>\n",
              "      <th>V13</th>\n",
              "      <th>V14</th>\n",
              "      <th>V15</th>\n",
              "      <th>V16</th>\n",
              "      <th>V17</th>\n",
              "      <th>V18</th>\n",
              "      <th>V19</th>\n",
              "      <th>V20</th>\n",
              "      <th>V21</th>\n",
              "      <th>V22</th>\n",
              "      <th>V23</th>\n",
              "      <th>V24</th>\n",
              "      <th>V25</th>\n",
              "      <th>V26</th>\n",
              "      <th>V27</th>\n",
              "      <th>V28</th>\n",
              "      <th>Amount</th>\n",
              "      <th>Class</th>\n",
              "    </tr>\n",
              "  </thead>\n",
              "  <tbody>\n",
              "    <tr>\n",
              "      <th>0</th>\n",
              "      <td>0.0</td>\n",
              "      <td>-1.359807</td>\n",
              "      <td>-0.072781</td>\n",
              "      <td>2.536347</td>\n",
              "      <td>1.378155</td>\n",
              "      <td>-0.338321</td>\n",
              "      <td>0.462388</td>\n",
              "      <td>0.239599</td>\n",
              "      <td>0.098698</td>\n",
              "      <td>0.363787</td>\n",
              "      <td>0.090794</td>\n",
              "      <td>-0.551600</td>\n",
              "      <td>-0.617801</td>\n",
              "      <td>-0.991390</td>\n",
              "      <td>-0.311169</td>\n",
              "      <td>1.468177</td>\n",
              "      <td>-0.470401</td>\n",
              "      <td>0.207971</td>\n",
              "      <td>0.025791</td>\n",
              "      <td>0.403993</td>\n",
              "      <td>0.251412</td>\n",
              "      <td>-0.018307</td>\n",
              "      <td>0.277838</td>\n",
              "      <td>-0.110474</td>\n",
              "      <td>0.066928</td>\n",
              "      <td>0.128539</td>\n",
              "      <td>-0.189115</td>\n",
              "      <td>0.133558</td>\n",
              "      <td>-0.021053</td>\n",
              "      <td>149.62</td>\n",
              "      <td>0</td>\n",
              "    </tr>\n",
              "    <tr>\n",
              "      <th>1</th>\n",
              "      <td>0.0</td>\n",
              "      <td>1.191857</td>\n",
              "      <td>0.266151</td>\n",
              "      <td>0.166480</td>\n",
              "      <td>0.448154</td>\n",
              "      <td>0.060018</td>\n",
              "      <td>-0.082361</td>\n",
              "      <td>-0.078803</td>\n",
              "      <td>0.085102</td>\n",
              "      <td>-0.255425</td>\n",
              "      <td>-0.166974</td>\n",
              "      <td>1.612727</td>\n",
              "      <td>1.065235</td>\n",
              "      <td>0.489095</td>\n",
              "      <td>-0.143772</td>\n",
              "      <td>0.635558</td>\n",
              "      <td>0.463917</td>\n",
              "      <td>-0.114805</td>\n",
              "      <td>-0.183361</td>\n",
              "      <td>-0.145783</td>\n",
              "      <td>-0.069083</td>\n",
              "      <td>-0.225775</td>\n",
              "      <td>-0.638672</td>\n",
              "      <td>0.101288</td>\n",
              "      <td>-0.339846</td>\n",
              "      <td>0.167170</td>\n",
              "      <td>0.125895</td>\n",
              "      <td>-0.008983</td>\n",
              "      <td>0.014724</td>\n",
              "      <td>2.69</td>\n",
              "      <td>0</td>\n",
              "    </tr>\n",
              "    <tr>\n",
              "      <th>2</th>\n",
              "      <td>1.0</td>\n",
              "      <td>-1.358354</td>\n",
              "      <td>-1.340163</td>\n",
              "      <td>1.773209</td>\n",
              "      <td>0.379780</td>\n",
              "      <td>-0.503198</td>\n",
              "      <td>1.800499</td>\n",
              "      <td>0.791461</td>\n",
              "      <td>0.247676</td>\n",
              "      <td>-1.514654</td>\n",
              "      <td>0.207643</td>\n",
              "      <td>0.624501</td>\n",
              "      <td>0.066084</td>\n",
              "      <td>0.717293</td>\n",
              "      <td>-0.165946</td>\n",
              "      <td>2.345865</td>\n",
              "      <td>-2.890083</td>\n",
              "      <td>1.109969</td>\n",
              "      <td>-0.121359</td>\n",
              "      <td>-2.261857</td>\n",
              "      <td>0.524980</td>\n",
              "      <td>0.247998</td>\n",
              "      <td>0.771679</td>\n",
              "      <td>0.909412</td>\n",
              "      <td>-0.689281</td>\n",
              "      <td>-0.327642</td>\n",
              "      <td>-0.139097</td>\n",
              "      <td>-0.055353</td>\n",
              "      <td>-0.059752</td>\n",
              "      <td>378.66</td>\n",
              "      <td>0</td>\n",
              "    </tr>\n",
              "    <tr>\n",
              "      <th>3</th>\n",
              "      <td>1.0</td>\n",
              "      <td>-0.966272</td>\n",
              "      <td>-0.185226</td>\n",
              "      <td>1.792993</td>\n",
              "      <td>-0.863291</td>\n",
              "      <td>-0.010309</td>\n",
              "      <td>1.247203</td>\n",
              "      <td>0.237609</td>\n",
              "      <td>0.377436</td>\n",
              "      <td>-1.387024</td>\n",
              "      <td>-0.054952</td>\n",
              "      <td>-0.226487</td>\n",
              "      <td>0.178228</td>\n",
              "      <td>0.507757</td>\n",
              "      <td>-0.287924</td>\n",
              "      <td>-0.631418</td>\n",
              "      <td>-1.059647</td>\n",
              "      <td>-0.684093</td>\n",
              "      <td>1.965775</td>\n",
              "      <td>-1.232622</td>\n",
              "      <td>-0.208038</td>\n",
              "      <td>-0.108300</td>\n",
              "      <td>0.005274</td>\n",
              "      <td>-0.190321</td>\n",
              "      <td>-1.175575</td>\n",
              "      <td>0.647376</td>\n",
              "      <td>-0.221929</td>\n",
              "      <td>0.062723</td>\n",
              "      <td>0.061458</td>\n",
              "      <td>123.50</td>\n",
              "      <td>0</td>\n",
              "    </tr>\n",
              "    <tr>\n",
              "      <th>4</th>\n",
              "      <td>2.0</td>\n",
              "      <td>-1.158233</td>\n",
              "      <td>0.877737</td>\n",
              "      <td>1.548718</td>\n",
              "      <td>0.403034</td>\n",
              "      <td>-0.407193</td>\n",
              "      <td>0.095921</td>\n",
              "      <td>0.592941</td>\n",
              "      <td>-0.270533</td>\n",
              "      <td>0.817739</td>\n",
              "      <td>0.753074</td>\n",
              "      <td>-0.822843</td>\n",
              "      <td>0.538196</td>\n",
              "      <td>1.345852</td>\n",
              "      <td>-1.119670</td>\n",
              "      <td>0.175121</td>\n",
              "      <td>-0.451449</td>\n",
              "      <td>-0.237033</td>\n",
              "      <td>-0.038195</td>\n",
              "      <td>0.803487</td>\n",
              "      <td>0.408542</td>\n",
              "      <td>-0.009431</td>\n",
              "      <td>0.798278</td>\n",
              "      <td>-0.137458</td>\n",
              "      <td>0.141267</td>\n",
              "      <td>-0.206010</td>\n",
              "      <td>0.502292</td>\n",
              "      <td>0.219422</td>\n",
              "      <td>0.215153</td>\n",
              "      <td>69.99</td>\n",
              "      <td>0</td>\n",
              "    </tr>\n",
              "  </tbody>\n",
              "</table>\n",
              "</div>"
            ],
            "text/plain": [
              "   Time        V1        V2        V3  ...       V27       V28  Amount  Class\n",
              "0   0.0 -1.359807 -0.072781  2.536347  ...  0.133558 -0.021053  149.62      0\n",
              "1   0.0  1.191857  0.266151  0.166480  ... -0.008983  0.014724    2.69      0\n",
              "2   1.0 -1.358354 -1.340163  1.773209  ... -0.055353 -0.059752  378.66      0\n",
              "3   1.0 -0.966272 -0.185226  1.792993  ...  0.062723  0.061458  123.50      0\n",
              "4   2.0 -1.158233  0.877737  1.548718  ...  0.219422  0.215153   69.99      0\n",
              "\n",
              "[5 rows x 31 columns]"
            ]
          },
          "metadata": {},
          "execution_count": 2
        }
      ]
    },
    {
      "cell_type": "code",
      "metadata": {
        "colab": {
          "base_uri": "https://localhost:8080/"
        },
        "id": "FwTuDSkjWrMs",
        "outputId": "09b81d54-37d7-46b3-8e4f-64a6c5340503"
      },
      "source": [
        "#Now splitting dependent and independent variable After performing scaling process\n",
        "# Performing scaling process\n",
        "from sklearn.preprocessing import StandardScaler\n",
        "scaler = StandardScaler()\n",
        "scaler.fit(creditcard_df.drop('Class', axis = 1))\n",
        "scaled_features = scaler.transform(creditcard_df.drop('Class', axis = 1))\n",
        "x = scaled_features  #skipped 0 and one because of id and diagnosis\n",
        "y = creditcard_df['Class'] # took only diagnosis column\n",
        "x,y"
      ],
      "execution_count": null,
      "outputs": [
        {
          "output_type": "execute_result",
          "data": {
            "text/plain": [
              "(array([[-1.99658302, -0.69424232, -0.04407492, ...,  0.33089162,\n",
              "         -0.06378115,  0.24496426],\n",
              "        [-1.99658302,  0.60849633,  0.16117592, ..., -0.02225568,\n",
              "          0.04460752, -0.34247454],\n",
              "        [-1.99656197, -0.69350046, -0.81157783, ..., -0.13713686,\n",
              "         -0.18102083,  1.16068593],\n",
              "        ...,\n",
              "        [ 1.6419735 ,  0.98002374, -0.18243372, ...,  0.01103672,\n",
              "         -0.0804672 , -0.0818393 ],\n",
              "        [ 1.6419735 , -0.12275539,  0.32125034, ...,  0.26960398,\n",
              "          0.31668678, -0.31324853],\n",
              "        [ 1.64205773, -0.27233093, -0.11489898, ..., -0.00598394,\n",
              "          0.04134999,  0.51435531]]), 0         0\n",
              " 1         0\n",
              " 2         0\n",
              " 3         0\n",
              " 4         0\n",
              "          ..\n",
              " 284802    0\n",
              " 284803    0\n",
              " 284804    0\n",
              " 284805    0\n",
              " 284806    0\n",
              " Name: Class, Length: 284807, dtype: int64)"
            ]
          },
          "metadata": {},
          "execution_count": 3
        }
      ]
    },
    {
      "cell_type": "code",
      "metadata": {
        "colab": {
          "base_uri": "https://localhost:8080/"
        },
        "id": "I5UBp1iFYig6",
        "outputId": "598b7cb7-2665-40ff-dc98-4deddadd36df"
      },
      "source": [
        "# Resampleing by oversampling\n",
        "from imblearn.over_sampling import RandomOverSampler\n",
        "smk = RandomOverSampler(ratio=0.5)\n",
        "xres,yres=smk.fit_sample(x,y) \n",
        "xres,yres"
      ],
      "execution_count": null,
      "outputs": [
        {
          "output_type": "stream",
          "name": "stderr",
          "text": [
            "/usr/local/lib/python3.7/dist-packages/sklearn/externals/six.py:31: FutureWarning: The module is deprecated in version 0.21 and will be removed in version 0.23 since we've dropped support for Python 2.7. Please rely on the official version of six (https://pypi.org/project/six/).\n",
            "  \"(https://pypi.org/project/six/).\", FutureWarning)\n",
            "/usr/local/lib/python3.7/dist-packages/sklearn/utils/deprecation.py:144: FutureWarning: The sklearn.neighbors.base module is  deprecated in version 0.22 and will be removed in version 0.24. The corresponding classes / functions should instead be imported from sklearn.neighbors. Anything that cannot be imported from sklearn.neighbors is now part of the private API.\n",
            "  warnings.warn(message, FutureWarning)\n",
            "/usr/local/lib/python3.7/dist-packages/sklearn/utils/deprecation.py:87: FutureWarning: Function safe_indexing is deprecated; safe_indexing is deprecated in version 0.22 and will be removed in version 0.24.\n",
            "  warnings.warn(msg, category=FutureWarning)\n"
          ]
        },
        {
          "output_type": "execute_result",
          "data": {
            "text/plain": [
              "(array([[-1.99658302, -0.69424232, -0.04407492, ...,  0.33089162,\n",
              "         -0.06378115,  0.24496426],\n",
              "        [-1.99658302,  0.60849633,  0.16117592, ..., -0.02225568,\n",
              "          0.04460752, -0.34247454],\n",
              "        [-1.99656197, -0.69350046, -0.81157783, ..., -0.13713686,\n",
              "         -0.18102083,  1.16068593],\n",
              "        ...,\n",
              "        [ 0.5009499 , -3.40901499,  3.34844073, ...,  0.69010111,\n",
              "          4.45945269,  0.07012795],\n",
              "        [ 0.94765164, -0.20196238, -0.45527129, ...,  0.88411251,\n",
              "          0.09728921, -0.35047071],\n",
              "        [-0.62027924,  0.60954752, -0.34583846, ..., -0.07103282,\n",
              "         -0.0185166 , -0.22565046]]), array([0, 0, 0, ..., 1, 1, 1]))"
            ]
          },
          "metadata": {},
          "execution_count": 4
        }
      ]
    },
    {
      "cell_type": "code",
      "metadata": {
        "colab": {
          "base_uri": "https://localhost:8080/"
        },
        "id": "Lr_0TI4BaIVX",
        "outputId": "ca8706c4-be7f-49e5-fe06-4948e655850e"
      },
      "source": [
        "#splitting into train and test data\n",
        "from sklearn.model_selection import train_test_split\n",
        "x_train,x_test,y_train,y_test = train_test_split(xres,yres,train_size = 0.9999,random_state = 50)\n",
        "x_train.shape,x_test.shape,y_train.shape,y_test.shape"
      ],
      "execution_count": null,
      "outputs": [
        {
          "output_type": "execute_result",
          "data": {
            "text/plain": [
              "((426429, 30), (43, 30), (426429,), (43,))"
            ]
          },
          "metadata": {},
          "execution_count": 5
        }
      ]
    },
    {
      "cell_type": "code",
      "metadata": {
        "colab": {
          "base_uri": "https://localhost:8080/"
        },
        "id": "IYy7m9dWaTTR",
        "outputId": "1248f931-c81c-41c8-8987-b883df10a74b"
      },
      "source": [
        "#Training the KNN model\n",
        "from sklearn.neighbors import KNeighborsClassifier\n",
        "knn = KNeighborsClassifier(n_neighbors = 5)\n",
        "knn.fit(x_train,y_train)"
      ],
      "execution_count": null,
      "outputs": [
        {
          "output_type": "execute_result",
          "data": {
            "text/plain": [
              "KNeighborsClassifier(algorithm='auto', leaf_size=30, metric='minkowski',\n",
              "                     metric_params=None, n_jobs=None, n_neighbors=5, p=2,\n",
              "                     weights='uniform')"
            ]
          },
          "metadata": {},
          "execution_count": 6
        }
      ]
    },
    {
      "cell_type": "code",
      "metadata": {
        "id": "SFUqiSAmadGL",
        "colab": {
          "base_uri": "https://localhost:8080/"
        },
        "outputId": "e1256409-a056-4792-e1f5-be11a3b4a07b"
      },
      "source": [
        "#predictin from test data\n",
        "y_predicted =  knn.predict(x_test)\n",
        "y_predicted"
      ],
      "execution_count": null,
      "outputs": [
        {
          "output_type": "execute_result",
          "data": {
            "text/plain": [
              "array([0, 0, 0, 0, 1, 0, 0, 1, 0, 0, 0, 0, 0, 0, 1, 0, 0, 0, 1, 0, 0, 1,\n",
              "       0, 0, 0, 0, 0, 0, 0, 0, 0, 0, 0, 1, 1, 0, 1, 0, 1, 0, 1, 1, 0])"
            ]
          },
          "metadata": {},
          "execution_count": 7
        }
      ]
    },
    {
      "cell_type": "code",
      "metadata": {
        "id": "zuVZ1fpPaj34",
        "colab": {
          "base_uri": "https://localhost:8080/"
        },
        "outputId": "20577ba3-6f09-4884-ce3e-e7fb7c6e2424"
      },
      "source": [
        "#To check prediction report and find advisable K value\n",
        "from sklearn.metrics import classification_report\n",
        "print(classification_report(y_test,y_predicted))"
      ],
      "execution_count": null,
      "outputs": [
        {
          "output_type": "stream",
          "name": "stdout",
          "text": [
            "              precision    recall  f1-score   support\n",
            "\n",
            "           0       1.00      1.00      1.00        32\n",
            "           1       1.00      1.00      1.00        11\n",
            "\n",
            "    accuracy                           1.00        43\n",
            "   macro avg       1.00      1.00      1.00        43\n",
            "weighted avg       1.00      1.00      1.00        43\n",
            "\n"
          ]
        }
      ]
    },
    {
      "cell_type": "code",
      "metadata": {
        "id": "9yaAaOCQan4h"
      },
      "source": [
        "#Now finding accuracy rate for say 50 k values from 1 to 50: Import cross value score \n",
        "from sklearn.model_selection import cross_val_score\n",
        "\n",
        "feature_df = pd.DataFrame(scaled_features,columns=creditcard_df.columns[:-1]) #For checking accuracy rate and error rate  \n",
        "accuracy_rate = []\n",
        "error_rate = []\n",
        "for i in range(1,5):\n",
        "  kn = KNeighborsClassifier(n_neighbors = i)\n",
        "  score = cross_val_score(kn,feature_df,y,cv = 10)\n",
        "  accuracy_rate.append(score.mean())\n",
        "for i in range(1,5):\n",
        "  kn = KNeighborsClassifier(n_neighbors = i)\n",
        "  score = cross_val_score(kn,feature_df,y,cv = 10)\n",
        "  error_rate.append(1 - score.mean())"
      ],
      "execution_count": null,
      "outputs": []
    },
    {
      "cell_type": "code",
      "metadata": {
        "id": "ZL9DxOeTarq3"
      },
      "source": [
        "#Plotting graph between accuracy rate and error rate\n",
        "plt.figure(figsize=(20,6))\n",
        "plt.plot(range(1,50),accuracy_rate,color ='blue',marker ='o',markerfacecolor='red')\n",
        "plt.xlabel('K')\n",
        "plt.ylabel('Accuracy Rate')\n",
        "plt.show()"
      ],
      "execution_count": null,
      "outputs": []
    },
    {
      "cell_type": "code",
      "metadata": {
        "id": "motVDDZaauIT"
      },
      "source": [
        "#Plotting graph between accuracy rate and error rate\n",
        "plt.figure(figsize=(20,6))\n",
        "plt.plot(range(1,50),error_rate,color ='blue',marker ='o',markerfacecolor='red')\n",
        "plt.xlabel('K')\n",
        "plt.ylabel('Error Rate')\n",
        "plt.show()"
      ],
      "execution_count": null,
      "outputs": []
    },
    {
      "cell_type": "markdown",
      "metadata": {
        "id": "YdhW05r8bHLB"
      },
      "source": [
        "*Hence Looking into error rate graph K value can be *"
      ]
    },
    {
      "cell_type": "code",
      "metadata": {
        "id": "R042U6G1bIQ-"
      },
      "source": [
        "#Now Fitting as per new k value\n",
        "knn = KNeighborsClassifier(n_neighbors = 31)\n",
        "knn.fit(x_train,y_train)\n",
        "#predictin from test data\n",
        "y_predicted =  knn.predict(x_test)\n",
        "print(classification_report(y_test,y_predicted))"
      ],
      "execution_count": null,
      "outputs": []
    },
    {
      "cell_type": "markdown",
      "metadata": {
        "id": "MZJ4-1dT2xsu"
      },
      "source": [
        "**Task2: Breast Cancer Dataset task**"
      ]
    },
    {
      "cell_type": "code",
      "metadata": {
        "id": "uGrTrY-1_se0",
        "colab": {
          "base_uri": "https://localhost:8080/",
          "height": 241
        },
        "outputId": "404a1f62-92e6-4084-d5ba-5cbb9d049217"
      },
      "source": [
        " #Gettiting data from csv stored in Google drive and converting it into dataframe\n",
        "url='https://drive.google.com/file/d/10nlpUpTKVAs6bdFW2LeEtFV-iD1w9sRU/view?usp=sharing'\n",
        "file_id=url.split('/')[-2]\n",
        "file_url='https://drive.google.com/uc?id=' + file_id\n",
        "breast_cancer_df = pd.read_csv(file_url)\n",
        "breast_cancer_df.head()"
      ],
      "execution_count": null,
      "outputs": [
        {
          "output_type": "execute_result",
          "data": {
            "text/html": [
              "<div>\n",
              "<style scoped>\n",
              "    .dataframe tbody tr th:only-of-type {\n",
              "        vertical-align: middle;\n",
              "    }\n",
              "\n",
              "    .dataframe tbody tr th {\n",
              "        vertical-align: top;\n",
              "    }\n",
              "\n",
              "    .dataframe thead th {\n",
              "        text-align: right;\n",
              "    }\n",
              "</style>\n",
              "<table border=\"1\" class=\"dataframe\">\n",
              "  <thead>\n",
              "    <tr style=\"text-align: right;\">\n",
              "      <th></th>\n",
              "      <th>id</th>\n",
              "      <th>diagnosis</th>\n",
              "      <th>radius_mean</th>\n",
              "      <th>texture_mean</th>\n",
              "      <th>perimeter_mean</th>\n",
              "      <th>area_mean</th>\n",
              "      <th>smoothness_mean</th>\n",
              "      <th>compactness_mean</th>\n",
              "      <th>concavity_mean</th>\n",
              "      <th>concave points_mean</th>\n",
              "      <th>symmetry_mean</th>\n",
              "      <th>fractal_dimension_mean</th>\n",
              "      <th>radius_se</th>\n",
              "      <th>texture_se</th>\n",
              "      <th>perimeter_se</th>\n",
              "      <th>area_se</th>\n",
              "      <th>smoothness_se</th>\n",
              "      <th>compactness_se</th>\n",
              "      <th>concavity_se</th>\n",
              "      <th>concave points_se</th>\n",
              "      <th>symmetry_se</th>\n",
              "      <th>fractal_dimension_se</th>\n",
              "      <th>radius_worst</th>\n",
              "      <th>texture_worst</th>\n",
              "      <th>perimeter_worst</th>\n",
              "      <th>area_worst</th>\n",
              "      <th>smoothness_worst</th>\n",
              "      <th>compactness_worst</th>\n",
              "      <th>concavity_worst</th>\n",
              "      <th>concave points_worst</th>\n",
              "      <th>symmetry_worst</th>\n",
              "      <th>fractal_dimension_worst</th>\n",
              "      <th>Unnamed: 32</th>\n",
              "    </tr>\n",
              "  </thead>\n",
              "  <tbody>\n",
              "    <tr>\n",
              "      <th>0</th>\n",
              "      <td>842302</td>\n",
              "      <td>M</td>\n",
              "      <td>17.99</td>\n",
              "      <td>10.38</td>\n",
              "      <td>122.80</td>\n",
              "      <td>1001.0</td>\n",
              "      <td>0.11840</td>\n",
              "      <td>0.27760</td>\n",
              "      <td>0.3001</td>\n",
              "      <td>0.14710</td>\n",
              "      <td>0.2419</td>\n",
              "      <td>0.07871</td>\n",
              "      <td>1.0950</td>\n",
              "      <td>0.9053</td>\n",
              "      <td>8.589</td>\n",
              "      <td>153.40</td>\n",
              "      <td>0.006399</td>\n",
              "      <td>0.04904</td>\n",
              "      <td>0.05373</td>\n",
              "      <td>0.01587</td>\n",
              "      <td>0.03003</td>\n",
              "      <td>0.006193</td>\n",
              "      <td>25.38</td>\n",
              "      <td>17.33</td>\n",
              "      <td>184.60</td>\n",
              "      <td>2019.0</td>\n",
              "      <td>0.1622</td>\n",
              "      <td>0.6656</td>\n",
              "      <td>0.7119</td>\n",
              "      <td>0.2654</td>\n",
              "      <td>0.4601</td>\n",
              "      <td>0.11890</td>\n",
              "      <td>NaN</td>\n",
              "    </tr>\n",
              "    <tr>\n",
              "      <th>1</th>\n",
              "      <td>842517</td>\n",
              "      <td>M</td>\n",
              "      <td>20.57</td>\n",
              "      <td>17.77</td>\n",
              "      <td>132.90</td>\n",
              "      <td>1326.0</td>\n",
              "      <td>0.08474</td>\n",
              "      <td>0.07864</td>\n",
              "      <td>0.0869</td>\n",
              "      <td>0.07017</td>\n",
              "      <td>0.1812</td>\n",
              "      <td>0.05667</td>\n",
              "      <td>0.5435</td>\n",
              "      <td>0.7339</td>\n",
              "      <td>3.398</td>\n",
              "      <td>74.08</td>\n",
              "      <td>0.005225</td>\n",
              "      <td>0.01308</td>\n",
              "      <td>0.01860</td>\n",
              "      <td>0.01340</td>\n",
              "      <td>0.01389</td>\n",
              "      <td>0.003532</td>\n",
              "      <td>24.99</td>\n",
              "      <td>23.41</td>\n",
              "      <td>158.80</td>\n",
              "      <td>1956.0</td>\n",
              "      <td>0.1238</td>\n",
              "      <td>0.1866</td>\n",
              "      <td>0.2416</td>\n",
              "      <td>0.1860</td>\n",
              "      <td>0.2750</td>\n",
              "      <td>0.08902</td>\n",
              "      <td>NaN</td>\n",
              "    </tr>\n",
              "    <tr>\n",
              "      <th>2</th>\n",
              "      <td>84300903</td>\n",
              "      <td>M</td>\n",
              "      <td>19.69</td>\n",
              "      <td>21.25</td>\n",
              "      <td>130.00</td>\n",
              "      <td>1203.0</td>\n",
              "      <td>0.10960</td>\n",
              "      <td>0.15990</td>\n",
              "      <td>0.1974</td>\n",
              "      <td>0.12790</td>\n",
              "      <td>0.2069</td>\n",
              "      <td>0.05999</td>\n",
              "      <td>0.7456</td>\n",
              "      <td>0.7869</td>\n",
              "      <td>4.585</td>\n",
              "      <td>94.03</td>\n",
              "      <td>0.006150</td>\n",
              "      <td>0.04006</td>\n",
              "      <td>0.03832</td>\n",
              "      <td>0.02058</td>\n",
              "      <td>0.02250</td>\n",
              "      <td>0.004571</td>\n",
              "      <td>23.57</td>\n",
              "      <td>25.53</td>\n",
              "      <td>152.50</td>\n",
              "      <td>1709.0</td>\n",
              "      <td>0.1444</td>\n",
              "      <td>0.4245</td>\n",
              "      <td>0.4504</td>\n",
              "      <td>0.2430</td>\n",
              "      <td>0.3613</td>\n",
              "      <td>0.08758</td>\n",
              "      <td>NaN</td>\n",
              "    </tr>\n",
              "    <tr>\n",
              "      <th>3</th>\n",
              "      <td>84348301</td>\n",
              "      <td>M</td>\n",
              "      <td>11.42</td>\n",
              "      <td>20.38</td>\n",
              "      <td>77.58</td>\n",
              "      <td>386.1</td>\n",
              "      <td>0.14250</td>\n",
              "      <td>0.28390</td>\n",
              "      <td>0.2414</td>\n",
              "      <td>0.10520</td>\n",
              "      <td>0.2597</td>\n",
              "      <td>0.09744</td>\n",
              "      <td>0.4956</td>\n",
              "      <td>1.1560</td>\n",
              "      <td>3.445</td>\n",
              "      <td>27.23</td>\n",
              "      <td>0.009110</td>\n",
              "      <td>0.07458</td>\n",
              "      <td>0.05661</td>\n",
              "      <td>0.01867</td>\n",
              "      <td>0.05963</td>\n",
              "      <td>0.009208</td>\n",
              "      <td>14.91</td>\n",
              "      <td>26.50</td>\n",
              "      <td>98.87</td>\n",
              "      <td>567.7</td>\n",
              "      <td>0.2098</td>\n",
              "      <td>0.8663</td>\n",
              "      <td>0.6869</td>\n",
              "      <td>0.2575</td>\n",
              "      <td>0.6638</td>\n",
              "      <td>0.17300</td>\n",
              "      <td>NaN</td>\n",
              "    </tr>\n",
              "    <tr>\n",
              "      <th>4</th>\n",
              "      <td>84358402</td>\n",
              "      <td>M</td>\n",
              "      <td>20.29</td>\n",
              "      <td>14.34</td>\n",
              "      <td>135.10</td>\n",
              "      <td>1297.0</td>\n",
              "      <td>0.10030</td>\n",
              "      <td>0.13280</td>\n",
              "      <td>0.1980</td>\n",
              "      <td>0.10430</td>\n",
              "      <td>0.1809</td>\n",
              "      <td>0.05883</td>\n",
              "      <td>0.7572</td>\n",
              "      <td>0.7813</td>\n",
              "      <td>5.438</td>\n",
              "      <td>94.44</td>\n",
              "      <td>0.011490</td>\n",
              "      <td>0.02461</td>\n",
              "      <td>0.05688</td>\n",
              "      <td>0.01885</td>\n",
              "      <td>0.01756</td>\n",
              "      <td>0.005115</td>\n",
              "      <td>22.54</td>\n",
              "      <td>16.67</td>\n",
              "      <td>152.20</td>\n",
              "      <td>1575.0</td>\n",
              "      <td>0.1374</td>\n",
              "      <td>0.2050</td>\n",
              "      <td>0.4000</td>\n",
              "      <td>0.1625</td>\n",
              "      <td>0.2364</td>\n",
              "      <td>0.07678</td>\n",
              "      <td>NaN</td>\n",
              "    </tr>\n",
              "  </tbody>\n",
              "</table>\n",
              "</div>"
            ],
            "text/plain": [
              "         id diagnosis  ...  fractal_dimension_worst  Unnamed: 32\n",
              "0    842302         M  ...                  0.11890          NaN\n",
              "1    842517         M  ...                  0.08902          NaN\n",
              "2  84300903         M  ...                  0.08758          NaN\n",
              "3  84348301         M  ...                  0.17300          NaN\n",
              "4  84358402         M  ...                  0.07678          NaN\n",
              "\n",
              "[5 rows x 33 columns]"
            ]
          },
          "metadata": {},
          "execution_count": 8
        }
      ]
    },
    {
      "cell_type": "code",
      "metadata": {
        "id": "7EG-P2fEIP34"
      },
      "source": [
        "#Dropping column with NaN data\n",
        "breast_cancer_df=breast_cancer_df.drop('Unnamed: 32',axis = 1)"
      ],
      "execution_count": null,
      "outputs": []
    },
    {
      "cell_type": "code",
      "metadata": {
        "id": "W8KmJ99-BVlo",
        "colab": {
          "base_uri": "https://localhost:8080/"
        },
        "outputId": "baafc421-dbee-4320-c10c-16987bb8b71b"
      },
      "source": [
        "#Now splitting dependent and independent variable After performing scaling process\n",
        "# Performing scaling process\n",
        "from sklearn.preprocessing import StandardScaler\n",
        "scaler = StandardScaler()\n",
        "scaler.fit(breast_cancer_df.drop('diagnosis', axis = 1))\n",
        "scaled_features = scaler.transform(breast_cancer_df.drop('diagnosis', axis = 1))\n",
        "x = scaled_features  #skipped 0 and one because of id and diagnosis\n",
        "y = breast_cancer_df['diagnosis'] # took only diagnosis column\n",
        "#Mapping M to 1 and B to 0\n",
        "y = y.map({'M': 1, 'B': 0}) \n",
        "x,y"
      ],
      "execution_count": null,
      "outputs": [
        {
          "output_type": "execute_result",
          "data": {
            "text/plain": [
              "(array([[-0.23640517,  1.09706398, -2.07333501, ...,  2.29607613,\n",
              "          2.75062224,  1.93701461],\n",
              "        [-0.23640344,  1.82982061, -0.35363241, ...,  1.0870843 ,\n",
              "         -0.24388967,  0.28118999],\n",
              "        [ 0.43174109,  1.57988811,  0.45618695, ...,  1.95500035,\n",
              "          1.152255  ,  0.20139121],\n",
              "        ...,\n",
              "        [-0.23572747,  0.70228425,  2.0455738 , ...,  0.41406869,\n",
              "         -1.10454895, -0.31840916],\n",
              "        [-0.23572517,  1.83834103,  2.33645719, ...,  2.28998549,\n",
              "          1.91908301,  2.21963528],\n",
              "        [-0.24240586, -1.80840125,  1.22179204, ..., -1.74506282,\n",
              "         -0.04813821, -0.75120669]]), 0      1\n",
              " 1      1\n",
              " 2      1\n",
              " 3      1\n",
              " 4      1\n",
              "       ..\n",
              " 564    1\n",
              " 565    1\n",
              " 566    1\n",
              " 567    1\n",
              " 568    0\n",
              " Name: diagnosis, Length: 569, dtype: int64)"
            ]
          },
          "metadata": {},
          "execution_count": 10
        }
      ]
    },
    {
      "cell_type": "code",
      "metadata": {
        "id": "W6q6o3tzDFe6",
        "colab": {
          "base_uri": "https://localhost:8080/"
        },
        "outputId": "13d5b31b-bb41-4f06-c3aa-693c7d8b1ed6"
      },
      "source": [
        "#splitting into train and test data\n",
        "from sklearn.model_selection import train_test_split\n",
        "x_train,x_test,y_train,y_test = train_test_split(x,y,train_size = 0.3,random_state = 50)\n",
        "x_train.shape,x_test.shape,y_train.shape,y_test.shape"
      ],
      "execution_count": null,
      "outputs": [
        {
          "output_type": "execute_result",
          "data": {
            "text/plain": [
              "((170, 31), (399, 31), (170,), (399,))"
            ]
          },
          "metadata": {},
          "execution_count": 11
        }
      ]
    },
    {
      "cell_type": "code",
      "metadata": {
        "id": "kqyCullfCzSx",
        "colab": {
          "base_uri": "https://localhost:8080/"
        },
        "outputId": "5d4e13ea-2122-4f85-a18a-48a4071d0179"
      },
      "source": [
        "#Training the KNN model\n",
        "from sklearn.neighbors import KNeighborsClassifier\n",
        "knn = KNeighborsClassifier(n_neighbors = 7)\n",
        "knn.fit(x_train,y_train)"
      ],
      "execution_count": null,
      "outputs": [
        {
          "output_type": "execute_result",
          "data": {
            "text/plain": [
              "KNeighborsClassifier(algorithm='auto', leaf_size=30, metric='minkowski',\n",
              "                     metric_params=None, n_jobs=None, n_neighbors=7, p=2,\n",
              "                     weights='uniform')"
            ]
          },
          "metadata": {},
          "execution_count": 12
        }
      ]
    },
    {
      "cell_type": "code",
      "metadata": {
        "id": "EAhFg7kKCRfB",
        "colab": {
          "base_uri": "https://localhost:8080/"
        },
        "outputId": "4ac96068-6ee9-4c1e-a177-f2e105b03a7c"
      },
      "source": [
        "#predictin from test data\n",
        "y_predicted =  knn.predict(x_test)\n",
        "y_predicted"
      ],
      "execution_count": null,
      "outputs": [
        {
          "output_type": "execute_result",
          "data": {
            "text/plain": [
              "array([0, 0, 1, 0, 0, 0, 0, 0, 0, 0, 0, 0, 0, 0, 0, 0, 0, 1, 1, 1, 0, 0,\n",
              "       0, 0, 0, 0, 1, 0, 0, 1, 0, 0, 1, 1, 0, 0, 0, 0, 0, 0, 0, 1, 1, 0,\n",
              "       0, 0, 0, 1, 0, 1, 1, 1, 1, 0, 0, 1, 1, 0, 0, 0, 0, 1, 0, 0, 1, 0,\n",
              "       0, 0, 0, 1, 1, 0, 1, 0, 1, 1, 0, 0, 1, 0, 1, 0, 0, 0, 1, 1, 1, 0,\n",
              "       0, 1, 1, 1, 1, 0, 0, 1, 0, 0, 1, 0, 0, 0, 0, 0, 0, 0, 1, 0, 1, 1,\n",
              "       0, 1, 1, 0, 0, 0, 1, 0, 1, 1, 0, 0, 1, 0, 0, 0, 1, 1, 1, 1, 0, 1,\n",
              "       0, 0, 0, 0, 0, 0, 0, 1, 0, 1, 1, 0, 0, 0, 0, 0, 0, 1, 0, 0, 1, 0,\n",
              "       0, 0, 0, 0, 0, 0, 0, 0, 0, 0, 0, 0, 0, 0, 0, 0, 1, 1, 0, 1, 0, 0,\n",
              "       1, 1, 1, 1, 0, 0, 0, 0, 1, 0, 0, 0, 0, 0, 0, 0, 1, 1, 0, 1, 0, 0,\n",
              "       1, 0, 1, 0, 0, 1, 1, 1, 0, 0, 1, 1, 1, 1, 0, 0, 0, 1, 0, 0, 0, 1,\n",
              "       1, 1, 1, 0, 0, 1, 1, 0, 1, 0, 0, 0, 0, 0, 0, 0, 0, 0, 0, 0, 0, 0,\n",
              "       0, 1, 1, 0, 0, 0, 0, 1, 1, 1, 0, 0, 0, 0, 0, 0, 1, 0, 0, 1, 0, 0,\n",
              "       0, 0, 1, 0, 0, 0, 0, 1, 0, 1, 0, 0, 0, 0, 0, 1, 1, 1, 0, 0, 0, 0,\n",
              "       0, 0, 0, 0, 1, 1, 0, 0, 0, 0, 0, 0, 1, 1, 1, 0, 1, 1, 1, 0, 0, 1,\n",
              "       1, 0, 0, 1, 0, 1, 0, 0, 0, 1, 0, 1, 0, 1, 1, 0, 0, 1, 1, 0, 0, 0,\n",
              "       0, 1, 0, 0, 1, 0, 0, 1, 1, 0, 0, 0, 0, 0, 0, 0, 0, 0, 0, 0, 0, 0,\n",
              "       0, 0, 0, 0, 0, 0, 1, 0, 1, 1, 0, 0, 0, 0, 1, 1, 0, 1, 0, 1, 0, 0,\n",
              "       0, 0, 0, 1, 0, 0, 0, 0, 1, 0, 0, 0, 0, 1, 0, 1, 0, 0, 0, 0, 0, 0,\n",
              "       0, 0, 0])"
            ]
          },
          "metadata": {},
          "execution_count": 13
        }
      ]
    },
    {
      "cell_type": "code",
      "metadata": {
        "id": "7F3k15lkCL8x",
        "colab": {
          "base_uri": "https://localhost:8080/"
        },
        "outputId": "a988168a-ea19-423c-dda6-bb8af83089ac"
      },
      "source": [
        "#To check prediction report and find advisable K value\n",
        "from sklearn.metrics import classification_report\n",
        "print(classification_report(y_test,y_predicted))"
      ],
      "execution_count": null,
      "outputs": [
        {
          "output_type": "stream",
          "name": "stdout",
          "text": [
            "              precision    recall  f1-score   support\n",
            "\n",
            "           0       0.92      0.99      0.96       252\n",
            "           1       0.98      0.86      0.92       147\n",
            "\n",
            "    accuracy                           0.94       399\n",
            "   macro avg       0.95      0.92      0.94       399\n",
            "weighted avg       0.95      0.94      0.94       399\n",
            "\n"
          ]
        }
      ]
    },
    {
      "cell_type": "code",
      "metadata": {
        "id": "lYbQbGHaQvhm"
      },
      "source": [
        "#Now finding accuracy rate for say 50 k values from 1 to 50: Import cross value score \n",
        "from sklearn.model_selection import cross_val_score\n",
        "\n",
        "feature_df = pd.DataFrame(scaled_features,columns=breast_cancer_df.columns[:-1]) #For checking accuracy rate and error rate  \n",
        "accuracy_rate = []\n",
        "error_rate = []\n",
        "for i in range(1,50):\n",
        "  kn = KNeighborsClassifier(n_neighbors = i)\n",
        "  score = cross_val_score(kn,feature_df,y,cv = 10)\n",
        "  accuracy_rate.append(score.mean())\n",
        "for i in range(1,50):\n",
        "  kn = KNeighborsClassifier(n_neighbors = i)\n",
        "  score = cross_val_score(kn,feature_df,y,cv = 10)\n",
        "  error_rate.append(1 - score.mean())"
      ],
      "execution_count": null,
      "outputs": []
    },
    {
      "cell_type": "code",
      "metadata": {
        "id": "K7Ts3bNl7cXW",
        "colab": {
          "base_uri": "https://localhost:8080/",
          "height": 388
        },
        "outputId": "59a76919-4d53-4326-9a6b-e8084abb0bb2"
      },
      "source": [
        "#Plotting graph between accuracy rate and error rate\n",
        "plt.figure(figsize=(20,6))\n",
        "plt.plot(range(1,50),accuracy_rate,color ='blue',marker ='o',markerfacecolor='red')\n",
        "plt.xlabel('K')\n",
        "plt.ylabel('Accuracy Rate')\n",
        "plt.show()"
      ],
      "execution_count": null,
      "outputs": [
        {
          "output_type": "display_data",
          "data": {
            "image/png": "[encoded data removed]",
            "text/plain": [
              "<Figure size 1440x432 with 1 Axes>"
            ]
          },
          "metadata": {
            "needs_background": "light"
          }
        }
      ]
    },
    {
      "cell_type": "code",
      "metadata": {
        "id": "ByEUmMJbalK6",
        "colab": {
          "base_uri": "https://localhost:8080/",
          "height": 390
        },
        "outputId": "8e285afc-ca4c-4aad-d76c-414a2657798b"
      },
      "source": [
        "#Plotting graph between accuracy rate and error rate\n",
        "plt.figure(figsize=(20,6))\n",
        "plt.plot(range(1,50),error_rate,color ='blue',marker ='o',markerfacecolor='red')\n",
        "plt.xlabel('K')\n",
        "plt.ylabel('Error Rate')\n",
        "plt.show()"
      ],
      "execution_count": null,
      "outputs": [
        {
          "output_type": "display_data",
          "data": {
            "image/png": "[encoded data removed]",
            "text/plain": [
              "<Figure size 1440x432 with 1 Axes>"
            ]
          },
          "metadata": {
            "needs_background": "light"
          }
        }
      ]
    },
    {
      "cell_type": "markdown",
      "metadata": {
        "id": "LKacnTeXciuT"
      },
      "source": [
        "*Hence Looking into error rate graph K value can be 31*"
      ]
    },
    {
      "cell_type": "code",
      "metadata": {
        "id": "a1XGjWtQdCGA",
        "colab": {
          "base_uri": "https://localhost:8080/"
        },
        "outputId": "22b93463-42d0-43f4-ce4a-a95aa3898dff"
      },
      "source": [
        "#Now Fitting as per new k value\n",
        "knn = KNeighborsClassifier(n_neighbors = 31)\n",
        "knn.fit(x_train,y_train)\n",
        "#predictin from test data\n",
        "y_predicted =  knn.predict(x_test)\n",
        "print(classification_report(y_test,y_predicted))"
      ],
      "execution_count": null,
      "outputs": [
        {
          "output_type": "stream",
          "name": "stdout",
          "text": [
            "              precision    recall  f1-score   support\n",
            "\n",
            "           0       0.89      0.99      0.94       252\n",
            "           1       0.97      0.80      0.88       147\n",
            "\n",
            "    accuracy                           0.92       399\n",
            "   macro avg       0.93      0.89      0.91       399\n",
            "weighted avg       0.92      0.92      0.92       399\n",
            "\n"
          ]
        }
      ]
    },
    {
      "cell_type": "markdown",
      "metadata": {
        "id": "EERczFbvbV1P"
      },
      "source": [
        "**Task 3: Iris Dataset task**"
      ]
    },
    {
      "cell_type": "code",
      "metadata": {
        "id": "bL6P-dxcbecC",
        "colab": {
          "base_uri": "https://localhost:8080/",
          "height": 204
        },
        "outputId": "37607963-bde2-4b57-bd2b-dbab15aa4e84"
      },
      "source": [
        "from sklearn import datasets\n",
        "# import some data to play with\n",
        "iris = datasets.load_iris()\n",
        "# print(iris)\n",
        "# iris.feature_names\n",
        "# iris.target\n",
        "iris_df = pd.DataFrame(iris.data)\n",
        "iris_df.columns = iris.feature_names\n",
        "iris_df['TargetClass'] = iris.target\n",
        "iris_df.head()"
      ],
      "execution_count": null,
      "outputs": [
        {
          "output_type": "execute_result",
          "data": {
            "text/html": [
              "<div>\n",
              "<style scoped>\n",
              "    .dataframe tbody tr th:only-of-type {\n",
              "        vertical-align: middle;\n",
              "    }\n",
              "\n",
              "    .dataframe tbody tr th {\n",
              "        vertical-align: top;\n",
              "    }\n",
              "\n",
              "    .dataframe thead th {\n",
              "        text-align: right;\n",
              "    }\n",
              "</style>\n",
              "<table border=\"1\" class=\"dataframe\">\n",
              "  <thead>\n",
              "    <tr style=\"text-align: right;\">\n",
              "      <th></th>\n",
              "      <th>sepal length (cm)</th>\n",
              "      <th>sepal width (cm)</th>\n",
              "      <th>petal length (cm)</th>\n",
              "      <th>petal width (cm)</th>\n",
              "      <th>TargetClass</th>\n",
              "    </tr>\n",
              "  </thead>\n",
              "  <tbody>\n",
              "    <tr>\n",
              "      <th>0</th>\n",
              "      <td>5.1</td>\n",
              "      <td>3.5</td>\n",
              "      <td>1.4</td>\n",
              "      <td>0.2</td>\n",
              "      <td>0</td>\n",
              "    </tr>\n",
              "    <tr>\n",
              "      <th>1</th>\n",
              "      <td>4.9</td>\n",
              "      <td>3.0</td>\n",
              "      <td>1.4</td>\n",
              "      <td>0.2</td>\n",
              "      <td>0</td>\n",
              "    </tr>\n",
              "    <tr>\n",
              "      <th>2</th>\n",
              "      <td>4.7</td>\n",
              "      <td>3.2</td>\n",
              "      <td>1.3</td>\n",
              "      <td>0.2</td>\n",
              "      <td>0</td>\n",
              "    </tr>\n",
              "    <tr>\n",
              "      <th>3</th>\n",
              "      <td>4.6</td>\n",
              "      <td>3.1</td>\n",
              "      <td>1.5</td>\n",
              "      <td>0.2</td>\n",
              "      <td>0</td>\n",
              "    </tr>\n",
              "    <tr>\n",
              "      <th>4</th>\n",
              "      <td>5.0</td>\n",
              "      <td>3.6</td>\n",
              "      <td>1.4</td>\n",
              "      <td>0.2</td>\n",
              "      <td>0</td>\n",
              "    </tr>\n",
              "  </tbody>\n",
              "</table>\n",
              "</div>"
            ],
            "text/plain": [
              "   sepal length (cm)  sepal width (cm)  ...  petal width (cm)  TargetClass\n",
              "0                5.1               3.5  ...               0.2            0\n",
              "1                4.9               3.0  ...               0.2            0\n",
              "2                4.7               3.2  ...               0.2            0\n",
              "3                4.6               3.1  ...               0.2            0\n",
              "4                5.0               3.6  ...               0.2            0\n",
              "\n",
              "[5 rows x 5 columns]"
            ]
          },
          "metadata": {},
          "execution_count": 19
        }
      ]
    },
    {
      "cell_type": "code",
      "metadata": {
        "colab": {
          "base_uri": "https://localhost:8080/"
        },
        "id": "qiFf3-GvhRAJ",
        "outputId": "ebd244c5-7ea5-481b-9586-78f769af89e0"
      },
      "source": [
        "#Now splitting dependent and independent variable\n",
        "x = iris_df.iloc[:,0:-1]\n",
        "y = iris_df['TargetClass']\n",
        "x,y"
      ],
      "execution_count": null,
      "outputs": [
        {
          "output_type": "execute_result",
          "data": {
            "text/plain": [
              "(     sepal length (cm)  sepal width (cm)  petal length (cm)  petal width (cm)\n",
              " 0                  5.1               3.5                1.4               0.2\n",
              " 1                  4.9               3.0                1.4               0.2\n",
              " 2                  4.7               3.2                1.3               0.2\n",
              " 3                  4.6               3.1                1.5               0.2\n",
              " 4                  5.0               3.6                1.4               0.2\n",
              " ..                 ...               ...                ...               ...\n",
              " 145                6.7               3.0                5.2               2.3\n",
              " 146                6.3               2.5                5.0               1.9\n",
              " 147                6.5               3.0                5.2               2.0\n",
              " 148                6.2               3.4                5.4               2.3\n",
              " 149                5.9               3.0                5.1               1.8\n",
              " \n",
              " [150 rows x 4 columns], 0      0\n",
              " 1      0\n",
              " 2      0\n",
              " 3      0\n",
              " 4      0\n",
              "       ..\n",
              " 145    2\n",
              " 146    2\n",
              " 147    2\n",
              " 148    2\n",
              " 149    2\n",
              " Name: TargetClass, Length: 150, dtype: int64)"
            ]
          },
          "metadata": {},
          "execution_count": 20
        }
      ]
    },
    {
      "cell_type": "code",
      "metadata": {
        "colab": {
          "base_uri": "https://localhost:8080/"
        },
        "id": "3CIAYSwrhRAN",
        "outputId": "c7782e7f-d1cf-4d17-9356-aedaff12313e"
      },
      "source": [
        "#splitting into train and test data\n",
        "from sklearn.model_selection import train_test_split\n",
        "x_train,x_test,y_train,y_test = train_test_split(x,y,train_size = 0.2,random_state = 50)\n",
        "x_train.shape,x_test.shape,y_train.shape,y_test.shape"
      ],
      "execution_count": null,
      "outputs": [
        {
          "output_type": "execute_result",
          "data": {
            "text/plain": [
              "((30, 4), (120, 4), (30,), (120,))"
            ]
          },
          "metadata": {},
          "execution_count": 21
        }
      ]
    },
    {
      "cell_type": "code",
      "metadata": {
        "colab": {
          "base_uri": "https://localhost:8080/"
        },
        "id": "olQGW-yohRAO",
        "outputId": "00de941f-a859-47c2-9a2d-09fbf77176b3"
      },
      "source": [
        "#Training the KNN model\n",
        "from sklearn.neighbors import KNeighborsClassifier\n",
        "knn = KNeighborsClassifier(n_neighbors = 5)\n",
        "knn.fit(x_train,y_train)"
      ],
      "execution_count": null,
      "outputs": [
        {
          "output_type": "execute_result",
          "data": {
            "text/plain": [
              "KNeighborsClassifier(algorithm='auto', leaf_size=30, metric='minkowski',\n",
              "                     metric_params=None, n_jobs=None, n_neighbors=5, p=2,\n",
              "                     weights='uniform')"
            ]
          },
          "metadata": {},
          "execution_count": 22
        }
      ]
    },
    {
      "cell_type": "code",
      "metadata": {
        "colab": {
          "base_uri": "https://localhost:8080/"
        },
        "id": "4dot2-HHhRAP",
        "outputId": "3c80eceb-ca2e-4753-d218-77902c7ab948"
      },
      "source": [
        "#predictin from test data\n",
        "y_predicted =  knn.predict(x_test)\n",
        "y_predicted"
      ],
      "execution_count": null,
      "outputs": [
        {
          "output_type": "execute_result",
          "data": {
            "text/plain": [
              "array([1, 2, 0, 0, 2, 2, 2, 0, 0, 1, 0, 2, 0, 2, 1, 0, 1, 0, 1, 2, 2, 1,\n",
              "       0, 2, 1, 2, 1, 1, 1, 2, 2, 1, 1, 2, 0, 0, 1, 2, 1, 0, 0, 1, 2, 0,\n",
              "       2, 0, 0, 0, 2, 2, 1, 0, 0, 1, 2, 1, 2, 0, 0, 2, 2, 1, 2, 0, 0, 2,\n",
              "       1, 0, 1, 0, 2, 2, 1, 2, 1, 0, 1, 0, 1, 2, 0, 0, 1, 0, 2, 0, 1, 1,\n",
              "       2, 2, 1, 2, 0, 2, 0, 1, 0, 2, 0, 0, 1, 1, 2, 2, 0, 2, 1, 2, 1, 0,\n",
              "       1, 2, 0, 1, 1, 1, 2, 1, 2, 1])"
            ]
          },
          "metadata": {},
          "execution_count": 23
        }
      ]
    },
    {
      "cell_type": "code",
      "metadata": {
        "colab": {
          "base_uri": "https://localhost:8080/"
        },
        "id": "jYbFL-MqhRAP",
        "outputId": "18952c58-1e51-4198-8a0a-33d8d6658c0e"
      },
      "source": [
        "#To check prediction report and find advisable K value\n",
        "from sklearn.metrics import classification_report\n",
        "print(classification_report(y_test,y_predicted))"
      ],
      "execution_count": null,
      "outputs": [
        {
          "output_type": "stream",
          "name": "stdout",
          "text": [
            "              precision    recall  f1-score   support\n",
            "\n",
            "           0       1.00      1.00      1.00        39\n",
            "           1       0.90      0.86      0.88        42\n",
            "           2       0.85      0.90      0.88        39\n",
            "\n",
            "    accuracy                           0.92       120\n",
            "   macro avg       0.92      0.92      0.92       120\n",
            "weighted avg       0.92      0.92      0.92       120\n",
            "\n"
          ]
        }
      ]
    },
    {
      "cell_type": "code",
      "metadata": {
        "id": "xpE0mEDbhRAQ"
      },
      "source": [
        "#Now finding accuracy rate for say 50 k values from 1 to 10: Import cross value score \n",
        "from sklearn.model_selection import cross_val_score\n",
        "\n",
        "feature_df = pd.DataFrame(x,columns=iris_df.columns[:-1]) #For checking accuracy rate and error rate  \n",
        "accuracy_rate = []\n",
        "error_rate = []\n",
        "for i in range(1,10):\n",
        "  kn = KNeighborsClassifier(n_neighbors = i)\n",
        "  score = cross_val_score(kn,feature_df,y,cv = 10)\n",
        "  accuracy_rate.append(score.mean())\n",
        "for i in range(1,10):\n",
        "  kn = KNeighborsClassifier(n_neighbors = i)\n",
        "  score = cross_val_score(kn,feature_df,y,cv = 10)\n",
        "  error_rate.append(1 - score.mean())"
      ],
      "execution_count": null,
      "outputs": []
    },
    {
      "cell_type": "code",
      "metadata": {
        "colab": {
          "base_uri": "https://localhost:8080/",
          "height": 388
        },
        "id": "nnAsPMEMhRAR",
        "outputId": "cf2bb231-af21-4410-b381-083c3ae9a1a2"
      },
      "source": [
        "#Plotting graph between accuracy rate and error rate\n",
        "plt.figure(figsize=(20,6))\n",
        "plt.plot(range(1,10),accuracy_rate,color ='blue',marker ='o',markerfacecolor='red')\n",
        "plt.xlabel('K')\n",
        "plt.ylabel('Accuracy Rate')\n",
        "plt.show()"
      ],
      "execution_count": null,
      "outputs": [
        {
          "output_type": "display_data",
          "data": {
            "image/png": "[encoded data removed]",
            "text/plain": [
              "<Figure size 1440x432 with 1 Axes>"
            ]
          },
          "metadata": {
            "needs_background": "light"
          }
        }
      ]
    },
    {
      "cell_type": "code",
      "metadata": {
        "colab": {
          "base_uri": "https://localhost:8080/",
          "height": 390
        },
        "id": "4xiCOe5whRAS",
        "outputId": "4b8ea4be-7495-4b4b-ebcb-a7006b19f674"
      },
      "source": [
        "#Plotting graph between accuracy rate and error rate\n",
        "plt.figure(figsize=(20,6))\n",
        "plt.plot(range(1,10),error_rate,color ='blue',marker ='o',markerfacecolor='red')\n",
        "plt.xlabel('K')\n",
        "plt.ylabel('Error Rate')\n",
        "plt.show()"
      ],
      "execution_count": null,
      "outputs": [
        {
          "output_type": "display_data",
          "data": {
            "image/png": "[encoded data removed]",
            "text/plain": [
              "<Figure size 1440x432 with 1 Axes>"
            ]
          },
          "metadata": {
            "needs_background": "light"
          }
        }
      ]
    },
    {
      "cell_type": "markdown",
      "metadata": {
        "id": "YVocwXjIhRAU"
      },
      "source": [
        "*Hence Looking into error rate graph K value can be 3*"
      ]
    },
    {
      "cell_type": "code",
      "metadata": {
        "colab": {
          "base_uri": "https://localhost:8080/"
        },
        "id": "PDuSdVpBhRAV",
        "outputId": "f391869c-2b51-48ea-b688-390e90835897"
      },
      "source": [
        "#Now Fitting as per new k value\n",
        "knn = KNeighborsClassifier(n_neighbors = 3)\n",
        "knn.fit(x_train,y_train)\n",
        "#predictin from test data\n",
        "y_predicted =  knn.predict(x_test)\n",
        "print(classification_report(y_test,y_predicted))"
      ],
      "execution_count": null,
      "outputs": [
        {
          "output_type": "stream",
          "name": "stdout",
          "text": [
            "              precision    recall  f1-score   support\n",
            "\n",
            "           0       1.00      1.00      1.00        39\n",
            "           1       0.90      0.86      0.88        42\n",
            "           2       0.85      0.90      0.88        39\n",
            "\n",
            "    accuracy                           0.92       120\n",
            "   macro avg       0.92      0.92      0.92       120\n",
            "weighted avg       0.92      0.92      0.92       120\n",
            "\n"
          ]
        }
      ]
    }
  ]
}