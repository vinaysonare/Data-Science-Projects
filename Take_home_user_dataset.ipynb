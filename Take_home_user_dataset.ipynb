{
  "nbformat": 4,
  "nbformat_minor": 0,
  "metadata": {
    "colab": {
      "name": "Take home user dataset",
      "provenance": [],
      "collapsed_sections": [],
      "authorship_tag": "ABX9TyOhdn/XMIDybFQ9AEt/i1Nu",
      "include_colab_link": true
    },
    "kernelspec": {
      "name": "python3",
      "display_name": "Python 3"
    },
    "language_info": {
      "name": "python"
    }
  },
  "cells": [
    {
      "cell_type": "markdown",
      "metadata": {
        "id": "view-in-github",
        "colab_type": "text"
      },
      "source": [
        "<a href=\"https://colab.research.google.com/github/vinaysonare/Data-Science-Projects/blob/main/Take_home_user_dataset.ipynb\" target=\"_parent\"><img src=\"https://colab.research.google.com/assets/colab-badge.svg\" alt=\"Open In Colab\"/></a>"
      ]
    },
    {
      "cell_type": "code",
      "metadata": {
        "id": "KvdljAYnDyWD"
      },
      "source": [
        "import pandas as pd\n",
        "import numpy as np\n",
        "import datetime\n",
        "from datetime import timedelta\n"
      ],
      "execution_count": null,
      "outputs": []
    },
    {
      "cell_type": "code",
      "metadata": {
        "colab": {
          "base_uri": "https://localhost:8080/"
        },
        "id": "jEQGdX6lPPTR",
        "outputId": "db5a2ef3-526f-4c9a-a654-5aef2b4ea94f"
      },
      "source": [
        "#getting user df\n",
        "userURL='https://drive.google.com/file/d/1dlBLbc8Dac56Gva2AZcZpChdXS7A6z9P/view?usp=sharing'\n",
        "userfile_id=userURL.split('/')[-2]\n",
        "userfile_url='https://drive.google.com/uc?id=' + userfile_id\n",
        "user_df  = pd.read_csv(userfile_url,encoding='latin-1')\n",
        "#getting engage df\n",
        "engageURL='https://drive.google.com/file/d/1kOux52G4PbN2JS0JlyXOJHDEegzJc5_m/view?usp=sharing'\n",
        "engageURL_id=engageURL.split('/')[-2]\n",
        "engageURL_url='https://drive.google.com/uc?id=' + engageURL_id\n",
        "engage_df = pd.read_csv(engageURL_url)\n",
        "\n",
        "print(user_df.head())\n",
        "print(engage_df.head())"
      ],
      "execution_count": null,
      "outputs": [
        {
          "output_type": "stream",
          "name": "stdout",
          "text": [
            "   object_id        creation_time  ... org_id invited_by_user_id\n",
            "0          1  2014-04-22 03:53:30  ...     11            10803.0\n",
            "1          2  2013-11-15 03:45:04  ...      1              316.0\n",
            "2          3  2013-03-19 23:14:52  ...     94             1525.0\n",
            "3          4  2013-05-21 08:09:28  ...      1             5151.0\n",
            "4          5  2013-01-17 10:14:20  ...    193             5240.0\n",
            "\n",
            "[5 rows x 10 columns]\n",
            "            time_stamp  user_id  visited\n",
            "0  2014-04-22 03:53:30        1        1\n",
            "1  2013-11-15 03:45:04        2        1\n",
            "2  2013-11-29 03:45:04        2        1\n",
            "3  2013-12-09 03:45:04        2        1\n",
            "4  2013-12-25 03:45:04        2        1\n"
          ]
        }
      ]
    },
    {
      "cell_type": "markdown",
      "metadata": {
        "id": "qrWiHDBYXIXy"
      },
      "source": [
        "Defining an \"adopted user\" as a user who has logged into the product on three separate days in at least one seven­day period.\n",
        "To get this info adding timestamp"
      ]
    },
    {
      "cell_type": "code",
      "metadata": {
        "colab": {
          "base_uri": "https://localhost:8080/",
          "height": 450
        },
        "id": "4MRlw_Q3RyOc",
        "outputId": "8e431694-fd02-483f-a932-656d0ba2194c"
      },
      "source": [
        "#set the time_stamp to datetime and the set it as the index\n",
        "engage_df.time_stamp = pd.to_datetime(engage_df.time_stamp)\n",
        "engage_df = engage_df.set_index('time_stamp', drop= True)\n",
        "engage_df"
      ],
      "execution_count": null,
      "outputs": [
        {
          "output_type": "execute_result",
          "data": {
            "text/html": [
              "<div>\n",
              "<style scoped>\n",
              "    .dataframe tbody tr th:only-of-type {\n",
              "        vertical-align: middle;\n",
              "    }\n",
              "\n",
              "    .dataframe tbody tr th {\n",
              "        vertical-align: top;\n",
              "    }\n",
              "\n",
              "    .dataframe thead th {\n",
              "        text-align: right;\n",
              "    }\n",
              "</style>\n",
              "<table border=\"1\" class=\"dataframe\">\n",
              "  <thead>\n",
              "    <tr style=\"text-align: right;\">\n",
              "      <th></th>\n",
              "      <th>user_id</th>\n",
              "      <th>visited</th>\n",
              "    </tr>\n",
              "    <tr>\n",
              "      <th>time_stamp</th>\n",
              "      <th></th>\n",
              "      <th></th>\n",
              "    </tr>\n",
              "  </thead>\n",
              "  <tbody>\n",
              "    <tr>\n",
              "      <th>2014-04-22 03:53:30</th>\n",
              "      <td>1</td>\n",
              "      <td>1</td>\n",
              "    </tr>\n",
              "    <tr>\n",
              "      <th>2013-11-15 03:45:04</th>\n",
              "      <td>2</td>\n",
              "      <td>1</td>\n",
              "    </tr>\n",
              "    <tr>\n",
              "      <th>2013-11-29 03:45:04</th>\n",
              "      <td>2</td>\n",
              "      <td>1</td>\n",
              "    </tr>\n",
              "    <tr>\n",
              "      <th>2013-12-09 03:45:04</th>\n",
              "      <td>2</td>\n",
              "      <td>1</td>\n",
              "    </tr>\n",
              "    <tr>\n",
              "      <th>2013-12-25 03:45:04</th>\n",
              "      <td>2</td>\n",
              "      <td>1</td>\n",
              "    </tr>\n",
              "    <tr>\n",
              "      <th>...</th>\n",
              "      <td>...</td>\n",
              "      <td>...</td>\n",
              "    </tr>\n",
              "    <tr>\n",
              "      <th>2013-09-06 06:14:15</th>\n",
              "      <td>11996</td>\n",
              "      <td>1</td>\n",
              "    </tr>\n",
              "    <tr>\n",
              "      <th>2013-01-15 18:28:37</th>\n",
              "      <td>11997</td>\n",
              "      <td>1</td>\n",
              "    </tr>\n",
              "    <tr>\n",
              "      <th>2014-04-27 12:45:16</th>\n",
              "      <td>11998</td>\n",
              "      <td>1</td>\n",
              "    </tr>\n",
              "    <tr>\n",
              "      <th>2012-06-02 11:55:59</th>\n",
              "      <td>11999</td>\n",
              "      <td>1</td>\n",
              "    </tr>\n",
              "    <tr>\n",
              "      <th>2014-01-26 08:57:12</th>\n",
              "      <td>12000</td>\n",
              "      <td>1</td>\n",
              "    </tr>\n",
              "  </tbody>\n",
              "</table>\n",
              "<p>207917 rows × 2 columns</p>\n",
              "</div>"
            ],
            "text/plain": [
              "                     user_id  visited\n",
              "time_stamp                           \n",
              "2014-04-22 03:53:30        1        1\n",
              "2013-11-15 03:45:04        2        1\n",
              "2013-11-29 03:45:04        2        1\n",
              "2013-12-09 03:45:04        2        1\n",
              "2013-12-25 03:45:04        2        1\n",
              "...                      ...      ...\n",
              "2013-09-06 06:14:15    11996        1\n",
              "2013-01-15 18:28:37    11997        1\n",
              "2014-04-27 12:45:16    11998        1\n",
              "2012-06-02 11:55:59    11999        1\n",
              "2014-01-26 08:57:12    12000        1\n",
              "\n",
              "[207917 rows x 2 columns]"
            ]
          },
          "metadata": {},
          "execution_count": 108
        }
      ]
    },
    {
      "cell_type": "code",
      "metadata": {
        "id": "bbm09FntYZx6"
      },
      "source": [
        "# creating a function to know wheter user is active or not in 7 day\n",
        "def adoptedLabel(val):\n",
        "    temp_df = engage_df.loc[engage_df['user_id'] == val] \n",
        "    temp_df = temp_df.resample('D').mean().dropna()\n",
        "    adopted = 0\n",
        "    #loop over active days till the second to last day\n",
        "    for i in range(len(temp_df)-2):\n",
        "        if temp_df.index[i + 2] - temp_df.index[i] <= timedelta(days=7):\n",
        "            adopted = 1\n",
        "            break\n",
        "        else:\n",
        "            adopted = 0\n",
        "    return adopted\n",
        "#creating column for adopted label\n",
        "user_df['adopted_user'] = user_df['object_id'].apply(adoptedLabel)"
      ],
      "execution_count": null,
      "outputs": []
    },
    {
      "cell_type": "code",
      "metadata": {
        "colab": {
          "base_uri": "https://localhost:8080/"
        },
        "id": "XUDvUvUAb1Hy",
        "outputId": "55ab4d18-04be-4ba5-ec1b-0c3fc916ca75"
      },
      "source": [
        "adoptedcount = user_df.loc[user_df['adopted_user'] == 1, 'adopted_user'].count()\n",
        "adoptedpercent = adoptedcount/user_df.shape[0]*100\n",
        "print('Adopted Users: ', adoptedcount)\n",
        "print('% of total Users: ', adoptedpercent,'%')"
      ],
      "execution_count": null,
      "outputs": [
        {
          "output_type": "stream",
          "name": "stdout",
          "text": [
            "Adopted Users:  1656\n",
            "% of total Users:  13.8 %\n"
          ]
        }
      ]
    },
    {
      "cell_type": "markdown",
      "metadata": {
        "id": "BAIeZGYVcqtv"
      },
      "source": [
        "Apparently there are **1656** adopted users which is **13.8%** of total users "
      ]
    },
    {
      "cell_type": "code",
      "metadata": {
        "id": "Cc6M67Hjfrfb"
      },
      "source": [
        "#coverting last_session_creation_time to date time stamp\n",
        "user_df['last_session_creation_time'] = user_df['last_session_creation_time'].map(lambda data: \n",
        "                                    datetime.datetime.fromtimestamp(int(data)).strftime('%Y-%m-%d %H:%M:%S'),na_action='ignore')\n"
      ],
      "execution_count": null,
      "outputs": []
    },
    {
      "cell_type": "code",
      "metadata": {
        "colab": {
          "base_uri": "https://localhost:8080/",
          "height": 609
        },
        "id": "nl3H9_IadCOJ",
        "outputId": "bccb41fb-4545-492d-9c18-71fb790fb9b0"
      },
      "source": [
        "user_df.creation_time = pd.to_datetime(user_df.creation_time)\n",
        "\n",
        "user_df['last_session_creation_time'] = pd.to_datetime(user_df['last_session_creation_time'])\n",
        "#Finding time length of being active\n",
        "user_df['usage_length'] = user_df['last_session_creation_time'] - user_df['creation_time']\n",
        "user_df['usage_length'] = [x.total_seconds() for x in user_df['usage_length']]\n",
        "#Replacing NaN with 0s\n",
        "user_df.invited_by_user_id = user_df.invited_by_user_id.fillna(0)\n",
        "user_df"
      ],
      "execution_count": null,
      "outputs": [
        {
          "output_type": "execute_result",
          "data": {
            "text/html": [
              "<div>\n",
              "<style scoped>\n",
              "    .dataframe tbody tr th:only-of-type {\n",
              "        vertical-align: middle;\n",
              "    }\n",
              "\n",
              "    .dataframe tbody tr th {\n",
              "        vertical-align: top;\n",
              "    }\n",
              "\n",
              "    .dataframe thead th {\n",
              "        text-align: right;\n",
              "    }\n",
              "</style>\n",
              "<table border=\"1\" class=\"dataframe\">\n",
              "  <thead>\n",
              "    <tr style=\"text-align: right;\">\n",
              "      <th></th>\n",
              "      <th>object_id</th>\n",
              "      <th>creation_time</th>\n",
              "      <th>name</th>\n",
              "      <th>email</th>\n",
              "      <th>creation_source</th>\n",
              "      <th>last_session_creation_time</th>\n",
              "      <th>opted_in_to_mailing_list</th>\n",
              "      <th>enabled_for_marketing_drip</th>\n",
              "      <th>org_id</th>\n",
              "      <th>invited_by_user_id</th>\n",
              "      <th>adopted_user</th>\n",
              "      <th>usage_length</th>\n",
              "    </tr>\n",
              "  </thead>\n",
              "  <tbody>\n",
              "    <tr>\n",
              "      <th>0</th>\n",
              "      <td>1</td>\n",
              "      <td>2014-04-22 03:53:30</td>\n",
              "      <td>Clausen August</td>\n",
              "      <td>AugustCClausen@yahoo.com</td>\n",
              "      <td>GUEST_INVITE</td>\n",
              "      <td>2014-04-22 03:53:30</td>\n",
              "      <td>1</td>\n",
              "      <td>0</td>\n",
              "      <td>11</td>\n",
              "      <td>10803.0</td>\n",
              "      <td>0</td>\n",
              "      <td>0.0</td>\n",
              "    </tr>\n",
              "    <tr>\n",
              "      <th>1</th>\n",
              "      <td>2</td>\n",
              "      <td>2013-11-15 03:45:04</td>\n",
              "      <td>Poole Matthew</td>\n",
              "      <td>MatthewPoole@gustr.com</td>\n",
              "      <td>ORG_INVITE</td>\n",
              "      <td>2014-03-31 03:45:04</td>\n",
              "      <td>0</td>\n",
              "      <td>0</td>\n",
              "      <td>1</td>\n",
              "      <td>316.0</td>\n",
              "      <td>1</td>\n",
              "      <td>11750400.0</td>\n",
              "    </tr>\n",
              "    <tr>\n",
              "      <th>2</th>\n",
              "      <td>3</td>\n",
              "      <td>2013-03-19 23:14:52</td>\n",
              "      <td>Bottrill Mitchell</td>\n",
              "      <td>MitchellBottrill@gustr.com</td>\n",
              "      <td>ORG_INVITE</td>\n",
              "      <td>2013-03-19 23:14:52</td>\n",
              "      <td>0</td>\n",
              "      <td>0</td>\n",
              "      <td>94</td>\n",
              "      <td>1525.0</td>\n",
              "      <td>0</td>\n",
              "      <td>0.0</td>\n",
              "    </tr>\n",
              "    <tr>\n",
              "      <th>3</th>\n",
              "      <td>4</td>\n",
              "      <td>2013-05-21 08:09:28</td>\n",
              "      <td>Clausen Nicklas</td>\n",
              "      <td>NicklasSClausen@yahoo.com</td>\n",
              "      <td>GUEST_INVITE</td>\n",
              "      <td>2013-05-22 08:09:28</td>\n",
              "      <td>0</td>\n",
              "      <td>0</td>\n",
              "      <td>1</td>\n",
              "      <td>5151.0</td>\n",
              "      <td>0</td>\n",
              "      <td>86400.0</td>\n",
              "    </tr>\n",
              "    <tr>\n",
              "      <th>4</th>\n",
              "      <td>5</td>\n",
              "      <td>2013-01-17 10:14:20</td>\n",
              "      <td>Raw Grace</td>\n",
              "      <td>GraceRaw@yahoo.com</td>\n",
              "      <td>GUEST_INVITE</td>\n",
              "      <td>2013-01-22 10:14:20</td>\n",
              "      <td>0</td>\n",
              "      <td>0</td>\n",
              "      <td>193</td>\n",
              "      <td>5240.0</td>\n",
              "      <td>0</td>\n",
              "      <td>432000.0</td>\n",
              "    </tr>\n",
              "    <tr>\n",
              "      <th>...</th>\n",
              "      <td>...</td>\n",
              "      <td>...</td>\n",
              "      <td>...</td>\n",
              "      <td>...</td>\n",
              "      <td>...</td>\n",
              "      <td>...</td>\n",
              "      <td>...</td>\n",
              "      <td>...</td>\n",
              "      <td>...</td>\n",
              "      <td>...</td>\n",
              "      <td>...</td>\n",
              "      <td>...</td>\n",
              "    </tr>\n",
              "    <tr>\n",
              "      <th>11995</th>\n",
              "      <td>11996</td>\n",
              "      <td>2013-09-06 06:14:15</td>\n",
              "      <td>Meier Sophia</td>\n",
              "      <td>SophiaMeier@gustr.com</td>\n",
              "      <td>ORG_INVITE</td>\n",
              "      <td>2013-09-06 06:14:15</td>\n",
              "      <td>0</td>\n",
              "      <td>0</td>\n",
              "      <td>89</td>\n",
              "      <td>8263.0</td>\n",
              "      <td>0</td>\n",
              "      <td>0.0</td>\n",
              "    </tr>\n",
              "    <tr>\n",
              "      <th>11996</th>\n",
              "      <td>11997</td>\n",
              "      <td>2013-01-10 18:28:37</td>\n",
              "      <td>Fisher Amelie</td>\n",
              "      <td>AmelieFisher@gmail.com</td>\n",
              "      <td>SIGNUP_GOOGLE_AUTH</td>\n",
              "      <td>2013-01-15 18:28:37</td>\n",
              "      <td>0</td>\n",
              "      <td>0</td>\n",
              "      <td>200</td>\n",
              "      <td>0.0</td>\n",
              "      <td>0</td>\n",
              "      <td>432000.0</td>\n",
              "    </tr>\n",
              "    <tr>\n",
              "      <th>11997</th>\n",
              "      <td>11998</td>\n",
              "      <td>2014-04-27 12:45:16</td>\n",
              "      <td>Haynes Jake</td>\n",
              "      <td>JakeHaynes@cuvox.de</td>\n",
              "      <td>GUEST_INVITE</td>\n",
              "      <td>2014-04-27 12:45:16</td>\n",
              "      <td>1</td>\n",
              "      <td>1</td>\n",
              "      <td>83</td>\n",
              "      <td>8074.0</td>\n",
              "      <td>0</td>\n",
              "      <td>0.0</td>\n",
              "    </tr>\n",
              "    <tr>\n",
              "      <th>11998</th>\n",
              "      <td>11999</td>\n",
              "      <td>2012-05-31 11:55:59</td>\n",
              "      <td>Faber Annett</td>\n",
              "      <td>mhaerzxp@iuxiw.com</td>\n",
              "      <td>PERSONAL_PROJECTS</td>\n",
              "      <td>2012-06-02 11:55:59</td>\n",
              "      <td>0</td>\n",
              "      <td>0</td>\n",
              "      <td>6</td>\n",
              "      <td>0.0</td>\n",
              "      <td>0</td>\n",
              "      <td>172800.0</td>\n",
              "    </tr>\n",
              "    <tr>\n",
              "      <th>11999</th>\n",
              "      <td>12000</td>\n",
              "      <td>2014-01-26 08:57:12</td>\n",
              "      <td>Lima Thaís</td>\n",
              "      <td>ThaisMeloLima@hotmail.com</td>\n",
              "      <td>SIGNUP</td>\n",
              "      <td>2014-01-26 08:57:12</td>\n",
              "      <td>0</td>\n",
              "      <td>1</td>\n",
              "      <td>0</td>\n",
              "      <td>0.0</td>\n",
              "      <td>0</td>\n",
              "      <td>0.0</td>\n",
              "    </tr>\n",
              "  </tbody>\n",
              "</table>\n",
              "<p>12000 rows × 12 columns</p>\n",
              "</div>"
            ],
            "text/plain": [
              "       object_id       creation_time  ... adopted_user usage_length\n",
              "0              1 2014-04-22 03:53:30  ...            0          0.0\n",
              "1              2 2013-11-15 03:45:04  ...            1   11750400.0\n",
              "2              3 2013-03-19 23:14:52  ...            0          0.0\n",
              "3              4 2013-05-21 08:09:28  ...            0      86400.0\n",
              "4              5 2013-01-17 10:14:20  ...            0     432000.0\n",
              "...          ...                 ...  ...          ...          ...\n",
              "11995      11996 2013-09-06 06:14:15  ...            0          0.0\n",
              "11996      11997 2013-01-10 18:28:37  ...            0     432000.0\n",
              "11997      11998 2014-04-27 12:45:16  ...            0          0.0\n",
              "11998      11999 2012-05-31 11:55:59  ...            0     172800.0\n",
              "11999      12000 2014-01-26 08:57:12  ...            0          0.0\n",
              "\n",
              "[12000 rows x 12 columns]"
            ]
          },
          "metadata": {},
          "execution_count": 112
        }
      ]
    },
    {
      "cell_type": "code",
      "metadata": {
        "colab": {
          "base_uri": "https://localhost:8080/",
          "height": 419
        },
        "id": "LNJ2DyYWhrm8",
        "outputId": "f210f15e-7182-4684-a105-ec61734feb52"
      },
      "source": [
        "# Creating a feature dataframe which is not useful\n",
        "feature_df = user_df.iloc[:,5:]\n",
        "feature_df = feature_df.drop('last_session_creation_time', axis=1)\n",
        "#Replacing NaN with 0s#Replacing NaN with 0s\n",
        "feature_df['usage_length'] = feature_df['usage_length'].fillna(0)\n",
        "feature_df"
      ],
      "execution_count": null,
      "outputs": [
        {
          "output_type": "execute_result",
          "data": {
            "text/html": [
              "<div>\n",
              "<style scoped>\n",
              "    .dataframe tbody tr th:only-of-type {\n",
              "        vertical-align: middle;\n",
              "    }\n",
              "\n",
              "    .dataframe tbody tr th {\n",
              "        vertical-align: top;\n",
              "    }\n",
              "\n",
              "    .dataframe thead th {\n",
              "        text-align: right;\n",
              "    }\n",
              "</style>\n",
              "<table border=\"1\" class=\"dataframe\">\n",
              "  <thead>\n",
              "    <tr style=\"text-align: right;\">\n",
              "      <th></th>\n",
              "      <th>opted_in_to_mailing_list</th>\n",
              "      <th>enabled_for_marketing_drip</th>\n",
              "      <th>org_id</th>\n",
              "      <th>invited_by_user_id</th>\n",
              "      <th>adopted_user</th>\n",
              "      <th>usage_length</th>\n",
              "    </tr>\n",
              "  </thead>\n",
              "  <tbody>\n",
              "    <tr>\n",
              "      <th>0</th>\n",
              "      <td>1</td>\n",
              "      <td>0</td>\n",
              "      <td>11</td>\n",
              "      <td>10803.0</td>\n",
              "      <td>0</td>\n",
              "      <td>0.0</td>\n",
              "    </tr>\n",
              "    <tr>\n",
              "      <th>1</th>\n",
              "      <td>0</td>\n",
              "      <td>0</td>\n",
              "      <td>1</td>\n",
              "      <td>316.0</td>\n",
              "      <td>1</td>\n",
              "      <td>11750400.0</td>\n",
              "    </tr>\n",
              "    <tr>\n",
              "      <th>2</th>\n",
              "      <td>0</td>\n",
              "      <td>0</td>\n",
              "      <td>94</td>\n",
              "      <td>1525.0</td>\n",
              "      <td>0</td>\n",
              "      <td>0.0</td>\n",
              "    </tr>\n",
              "    <tr>\n",
              "      <th>3</th>\n",
              "      <td>0</td>\n",
              "      <td>0</td>\n",
              "      <td>1</td>\n",
              "      <td>5151.0</td>\n",
              "      <td>0</td>\n",
              "      <td>86400.0</td>\n",
              "    </tr>\n",
              "    <tr>\n",
              "      <th>4</th>\n",
              "      <td>0</td>\n",
              "      <td>0</td>\n",
              "      <td>193</td>\n",
              "      <td>5240.0</td>\n",
              "      <td>0</td>\n",
              "      <td>432000.0</td>\n",
              "    </tr>\n",
              "    <tr>\n",
              "      <th>...</th>\n",
              "      <td>...</td>\n",
              "      <td>...</td>\n",
              "      <td>...</td>\n",
              "      <td>...</td>\n",
              "      <td>...</td>\n",
              "      <td>...</td>\n",
              "    </tr>\n",
              "    <tr>\n",
              "      <th>11995</th>\n",
              "      <td>0</td>\n",
              "      <td>0</td>\n",
              "      <td>89</td>\n",
              "      <td>8263.0</td>\n",
              "      <td>0</td>\n",
              "      <td>0.0</td>\n",
              "    </tr>\n",
              "    <tr>\n",
              "      <th>11996</th>\n",
              "      <td>0</td>\n",
              "      <td>0</td>\n",
              "      <td>200</td>\n",
              "      <td>0.0</td>\n",
              "      <td>0</td>\n",
              "      <td>432000.0</td>\n",
              "    </tr>\n",
              "    <tr>\n",
              "      <th>11997</th>\n",
              "      <td>1</td>\n",
              "      <td>1</td>\n",
              "      <td>83</td>\n",
              "      <td>8074.0</td>\n",
              "      <td>0</td>\n",
              "      <td>0.0</td>\n",
              "    </tr>\n",
              "    <tr>\n",
              "      <th>11998</th>\n",
              "      <td>0</td>\n",
              "      <td>0</td>\n",
              "      <td>6</td>\n",
              "      <td>0.0</td>\n",
              "      <td>0</td>\n",
              "      <td>172800.0</td>\n",
              "    </tr>\n",
              "    <tr>\n",
              "      <th>11999</th>\n",
              "      <td>0</td>\n",
              "      <td>1</td>\n",
              "      <td>0</td>\n",
              "      <td>0.0</td>\n",
              "      <td>0</td>\n",
              "      <td>0.0</td>\n",
              "    </tr>\n",
              "  </tbody>\n",
              "</table>\n",
              "<p>12000 rows × 6 columns</p>\n",
              "</div>"
            ],
            "text/plain": [
              "       opted_in_to_mailing_list  ...  usage_length\n",
              "0                             1  ...           0.0\n",
              "1                             0  ...    11750400.0\n",
              "2                             0  ...           0.0\n",
              "3                             0  ...       86400.0\n",
              "4                             0  ...      432000.0\n",
              "...                         ...  ...           ...\n",
              "11995                         0  ...           0.0\n",
              "11996                         0  ...      432000.0\n",
              "11997                         1  ...           0.0\n",
              "11998                         0  ...      172800.0\n",
              "11999                         0  ...           0.0\n",
              "\n",
              "[12000 rows x 6 columns]"
            ]
          },
          "metadata": {},
          "execution_count": 113
        }
      ]
    },
    {
      "cell_type": "code",
      "metadata": {
        "colab": {
          "base_uri": "https://localhost:8080/"
        },
        "id": "fWXt8sxij6h1",
        "outputId": "a6455e6e-d769-48ca-9ba2-660f96bce36a"
      },
      "source": [
        "from sklearn.model_selection import train_test_split\n",
        "\n",
        "x = feature_df.drop('adopted_user', axis=1)\n",
        "y = feature_df.adopted_user\n",
        "xtrain, xtest, ytrain, ytest = train_test_split(x, y, test_size=0.4, random_state=10)\n",
        "xtrain.shape,ytrain.shape,xtest.shape,ytest.shape"
      ],
      "execution_count": null,
      "outputs": [
        {
          "output_type": "execute_result",
          "data": {
            "text/plain": [
              "((7200, 5), (7200,), (4800, 5), (4800,))"
            ]
          },
          "metadata": {},
          "execution_count": 120
        }
      ]
    },
    {
      "cell_type": "code",
      "metadata": {
        "colab": {
          "base_uri": "https://localhost:8080/"
        },
        "id": "zNhiwSjnkkac",
        "outputId": "daa75d0a-83de-4171-854b-4ce4c82affc8"
      },
      "source": [
        "#train and test classifier using radom forest classifier as it can tell importance of a feature\n",
        "from sklearn.ensemble import RandomForestClassifier\n",
        "rfc = RandomForestClassifier(class_weight='balanced_subsample')\n",
        "rfc.fit(xtrain,ytrain)\n",
        "rfc.score(xtest,ytest)"
      ],
      "execution_count": null,
      "outputs": [
        {
          "output_type": "execute_result",
          "data": {
            "text/plain": [
              "0.9689583333333334"
            ]
          },
          "metadata": {},
          "execution_count": 138
        }
      ]
    },
    {
      "cell_type": "markdown",
      "metadata": {
        "id": "V_dt0VwsndiW"
      },
      "source": [
        "Here mean accuray is almost **97%** which is very good"
      ]
    },
    {
      "cell_type": "code",
      "metadata": {
        "colab": {
          "base_uri": "https://localhost:8080/"
        },
        "id": "2jWnzBgdmc4e",
        "outputId": "40c5b131-5f10-41c8-a83c-0c19e23d0001"
      },
      "source": [
        "#predictin from test data\n",
        "y_predicted =  knn.predict(xtest)\n",
        "#To check prediction report and find advisable K value\n",
        "from sklearn.metrics import classification_report,confusion_matrix\n",
        "print(classification_report(ytest,y_predicted))\n",
        "cm= confusion_matrix(ytest,y_predicted)\n",
        "print('confusion matrix:')\n",
        "print(cm)"
      ],
      "execution_count": null,
      "outputs": [
        {
          "output_type": "stream",
          "name": "stdout",
          "text": [
            "              precision    recall  f1-score   support\n",
            "\n",
            "           0       0.98      0.98      0.98      4154\n",
            "           1       0.90      0.87      0.89       646\n",
            "\n",
            "    accuracy                           0.97      4800\n",
            "   macro avg       0.94      0.93      0.93      4800\n",
            "weighted avg       0.97      0.97      0.97      4800\n",
            "\n",
            "confusion matrix:\n",
            "[[4090   64]\n",
            " [  82  564]]\n"
          ]
        }
      ]
    },
    {
      "cell_type": "code",
      "metadata": {
        "colab": {
          "base_uri": "https://localhost:8080/"
        },
        "id": "4t29Fqb-ocsx",
        "outputId": "4f196ab6-fd8d-41ed-8115-fa757a3a46c9"
      },
      "source": [
        "# Hence factors which predict future user adoption\n",
        "print('Factors which predict future user adoption are: ',*x.columns)"
      ],
      "execution_count": null,
      "outputs": [
        {
          "output_type": "stream",
          "name": "stdout",
          "text": [
            "Factors which predict future user adoption are:  opted_in_to_mailing_list enabled_for_marketing_drip org_id invited_by_user_id usage_length\n"
          ]
        }
      ]
    },
    {
      "cell_type": "markdown",
      "metadata": {
        "id": "Tkro3_kyqvWp"
      },
      "source": [
        "We can also look into a graph showing importance of the features"
      ]
    },
    {
      "cell_type": "code",
      "metadata": {
        "colab": {
          "base_uri": "https://localhost:8080/",
          "height": 204
        },
        "id": "BRXtQ5Wcq6DG",
        "outputId": "59a8235c-7977-41ee-8268-d9a71a379956"
      },
      "source": [
        "#make a df that displays the cofficients indexed by feature name\n",
        "feat_importance = pd.DataFrame()\n",
        "feat_importance['feature']  = x.columns\n",
        "feat_importance['coef'] = rfc.feature_importances_\n",
        "# feat_importance.coef.nlargest(10)\n",
        "feat_importance = feat_importance.sort_values(by='coef', ascending=False)\n",
        "feat_importance"
      ],
      "execution_count": null,
      "outputs": [
        {
          "output_type": "execute_result",
          "data": {
            "text/html": [
              "<div>\n",
              "<style scoped>\n",
              "    .dataframe tbody tr th:only-of-type {\n",
              "        vertical-align: middle;\n",
              "    }\n",
              "\n",
              "    .dataframe tbody tr th {\n",
              "        vertical-align: top;\n",
              "    }\n",
              "\n",
              "    .dataframe thead th {\n",
              "        text-align: right;\n",
              "    }\n",
              "</style>\n",
              "<table border=\"1\" class=\"dataframe\">\n",
              "  <thead>\n",
              "    <tr style=\"text-align: right;\">\n",
              "      <th></th>\n",
              "      <th>feature</th>\n",
              "      <th>coef</th>\n",
              "    </tr>\n",
              "  </thead>\n",
              "  <tbody>\n",
              "    <tr>\n",
              "      <th>4</th>\n",
              "      <td>usage_length</td>\n",
              "      <td>0.914691</td>\n",
              "    </tr>\n",
              "    <tr>\n",
              "      <th>2</th>\n",
              "      <td>org_id</td>\n",
              "      <td>0.050845</td>\n",
              "    </tr>\n",
              "    <tr>\n",
              "      <th>3</th>\n",
              "      <td>invited_by_user_id</td>\n",
              "      <td>0.028571</td>\n",
              "    </tr>\n",
              "    <tr>\n",
              "      <th>0</th>\n",
              "      <td>opted_in_to_mailing_list</td>\n",
              "      <td>0.003290</td>\n",
              "    </tr>\n",
              "    <tr>\n",
              "      <th>1</th>\n",
              "      <td>enabled_for_marketing_drip</td>\n",
              "      <td>0.002604</td>\n",
              "    </tr>\n",
              "  </tbody>\n",
              "</table>\n",
              "</div>"
            ],
            "text/plain": [
              "                      feature      coef\n",
              "4                usage_length  0.914691\n",
              "2                      org_id  0.050845\n",
              "3          invited_by_user_id  0.028571\n",
              "0    opted_in_to_mailing_list  0.003290\n",
              "1  enabled_for_marketing_drip  0.002604"
            ]
          },
          "metadata": {},
          "execution_count": 162
        }
      ]
    },
    {
      "cell_type": "code",
      "metadata": {
        "colab": {
          "base_uri": "https://localhost:8080/",
          "height": 630
        },
        "id": "-TxM2Ufeq9dn",
        "outputId": "f51a34f7-b771-4f8c-9003-294201241f45"
      },
      "source": [
        "#plot the results\n",
        "import matplotlib.pyplot as plt\n",
        "import seaborn as sns\n",
        "\n",
        "fig, ax = plt.subplots()\n",
        "fig.set_size_inches(11.5, 8.5)\n",
        "ax.set_xticklabels(ax.get_xticklabels(), rotation=40, ha=\"right\")\n",
        "sns.barplot(x='feature',y = 'coef',data = feat_importance)\n",
        "ax.set_title(\"Importance of features\", size=16,fontweight=\"bold\")\n",
        "plt.show()\n",
        "\n"
      ],
      "execution_count": null,
      "outputs": [
        {
          "output_type": "display_data",
          "data": {
            "image/png": "[encoded data removed]",
            "text/plain": [
              "<Figure size 828x612 with 1 Axes>"
            ]
          },
          "metadata": {
            "needs_background": "light"
          }
        }
      ]
    },
    {
      "cell_type": "code",
      "metadata": {
        "colab": {
          "base_uri": "https://localhost:8080/",
          "height": 295
        },
        "id": "FkpYz3O1txMq",
        "outputId": "0d16f8e1-a853-4018-9ae8-71b00f503fec"
      },
      "source": [
        "# Finding ecdf of dataset\n",
        "adopted = feature_df.usage_length.loc[feature_df['adopted_user'] == 1]\n",
        "not_adopted = feature_df.usage_length.loc[feature_df['adopted_user'] == 0]\n",
        "\n",
        "#set fig size\n",
        "x_active = np.sort(adopted)\n",
        "y_active = np.arange(1, len(adopted)+1) / len(adopted)\n",
        "x_inactive = np.sort(not_adopted)\n",
        "y_inactive = np.arange(1, len(not_adopted)+1) / len(not_adopted)\n",
        "\n",
        "plt.plot(x_active, y_active, marker='*', linestyle='none')\n",
        "plt.plot(x_inactive, y_inactive, marker='.', linestyle='none')\n",
        "plt.title('Length of Usage among Adopted and Not Adpoted Users')\n",
        "plt.xlabel('Length of Usage (Seconds)')\n",
        "plt.ylabel('ECDF')\n",
        "plt.legend(['Adopted', 'Not Adopted'])\n",
        "plt.show()\n"
      ],
      "execution_count": null,
      "outputs": [
        {
          "output_type": "display_data",
          "data": {
            "image/png": "[encoded data removed]",
            "text/plain": [
              "<Figure size 432x288 with 1 Axes>"
            ]
          },
          "metadata": {
            "needs_background": "light"
          }
        }
      ]
    },
    {
      "cell_type": "markdown",
      "metadata": {
        "id": "5f69SmV5wBeD"
      },
      "source": [
        ""
      ]
    }
  ]
}